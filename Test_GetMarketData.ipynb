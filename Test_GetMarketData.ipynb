{
 "cells": [
  {
   "cell_type": "code",
   "execution_count": 3,
   "metadata": {
    "collapsed": true
   },
   "outputs": [],
   "source": [
    "import numpy as np\n",
    "import pandas as pd\n",
    "import matplotlib.pyplot as plt"
   ]
  },
  {
   "cell_type": "code",
   "execution_count": 11,
   "metadata": {},
   "outputs": [
    {
     "name": "stdout",
     "output_type": "stream",
     "text": [
      "[*********************100%***********************]  6 of 6 completed\n",
      "                 AAPL        AXP          BA         IBM         MU        WMT\n",
      "Date                                                                          \n",
      "2015-01-02  24.861401  84.234779  113.657227  124.574829  34.750000  74.245743\n",
      "2015-01-05  24.161013  82.007118  112.870056  122.614647  33.779999  74.029671\n",
      "2015-01-06  24.163294  80.259384  111.540627  119.970337  32.869999  74.600113\n",
      "2015-01-07  24.502111  82.012276  113.272369  119.186256  32.099998  76.579414\n",
      "2015-01-08  25.443539  83.174782  115.275284  121.776733  33.669998  78.195717\n",
      "\n",
      "Date\n",
      "2015-01-02    113.657227\n",
      "2015-01-05    112.870056\n",
      "2015-01-06    111.540627\n",
      "2015-01-07    113.272369\n",
      "2015-01-08    115.275284\n",
      "                 ...    \n",
      "2021-03-15    265.630005\n",
      "2021-03-16    255.210007\n",
      "2021-03-17    263.589996\n",
      "2021-03-18    256.059998\n",
      "2021-03-19    255.820007\n",
      "Name: BA, Length: 1564, dtype: float64\n"
     ]
    }
   ],
   "source": [
    "# Define the ticker list\n",
    "\n",
    "tickers_list = ['AAPL', 'WMT', 'IBM', 'MU', 'BA', 'AXP']\n",
    "\n",
    "# Fetch the data\n",
    "import yfinance as yf\n",
    "data = yf.download(tickers_list,'2015-1-1')['Adj Close']\n",
    "\n",
    "# Print first 5 rows of the data\n",
    "print(data.head())\n",
    "print('')\n",
    "print(data['BA'])"
   ]
  },
  {
   "cell_type": "code",
   "execution_count": 15,
   "metadata": {},
   "outputs": [
    {
     "data": {
      "image/png": "[encoded data removed]",
      "text/plain": [
       "<matplotlib.figure.Figure at 0x2171a3659e8>"
      ]
     },
     "metadata": {},
     "output_type": "display_data"
    }
   ],
   "source": [
    "# Plot all the close prices\n",
    "plt.plot(data['AAPL'])\n",
    "plt.show()"
   ]
  },
  {
   "cell_type": "code",
   "execution_count": null,
   "metadata": {
    "collapsed": true
   },
   "outputs": [],
   "source": []
  }
 ],
 "metadata": {
  "kernelspec": {
   "display_name": "Python 3",
   "language": "python",
   "name": "python3"
  },
  "language_info": {
   "codemirror_mode": {
    "name": "ipython",
    "version": 3
   },
   "file_extension": ".py",
   "mimetype": "text/x-python",
   "name": "python",
   "nbconvert_exporter": "python",
   "pygments_lexer": "ipython3",
   "version": "3.6.2"
  }
 },
 "nbformat": 4,
 "nbformat_minor": 2
}
